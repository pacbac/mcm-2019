{
 "cells": [
  {
   "cell_type": "markdown",
   "metadata": {},
   "source": [
    "## Initialization"
   ]
  },
  {
   "cell_type": "code",
   "execution_count": 501,
   "metadata": {},
   "outputs": [],
   "source": [
    "from sklearn.ensemble import RandomForestRegressor\n",
    "from sklearn.tree import export_graphviz, DecisionTreeRegressor\n",
    "import pandas as pd\n",
    "import numpy as np\n",
    "YR = 2010\n",
    "TEST_RATIO = 0.7\n",
    "PARTITION = int(TEST_RATIO*min(uscbYr.shape[0], edf.shape[0]))\n",
    "INPUT_PATH = f'../2019_MCMProblemC_DATA/ACS_{YR%2000}_5YR_DP02/ACS_{YR%2000}_5YR_DP02_with_ann.csv'\n",
    "EXPECTED_PATH = '../2019_MCMProblemC_DATA/MCM_NFLIS_Data.xlsx'\n",
    "uscbYr = pd.read_csv(INPUT_PATH)\n",
    "edf = pd.read_excel(EXPECTED_PATH, 'Data')\n",
    "uscbTbl = uscbYr.rename(columns=uscbYr.iloc[0]).drop([0])\n",
    "uscbYr = uscbYr.drop([0])"
   ]
  },
  {
   "cell_type": "code",
   "execution_count": 502,
   "metadata": {},
   "outputs": [],
   "source": [
    "STATE_CODES = {\n",
    "    'Virginia' : 'VA',\n",
    "    'Ohio' : 'OH',\n",
    "    'Kentucky' : 'KY',\n",
    "    'Pennsylvania' : 'PA',\n",
    "    'West Virginia' : 'WV'\n",
    "}"
   ]
  },
  {
   "cell_type": "code",
   "execution_count": 503,
   "metadata": {},
   "outputs": [],
   "source": [
    "def sumRowsDF(df):\n",
    "    return df.apply(pd.to_numeric).sum(axis=1)"
   ]
  },
  {
   "cell_type": "markdown",
   "metadata": {},
   "source": [
    "## Prepare Dataset"
   ]
  },
  {
   "cell_type": "code",
   "execution_count": 504,
   "metadata": {},
   "outputs": [],
   "source": [
    "# get counties\n",
    "counties = uscbYr.iloc[:,2]\n",
    "# group marital status\n",
    "divorced = sumRowsDF(uscbYr.loc[:, ['HC01_VC37', 'HC01_VC38', 'HC01_VC39']])\n",
    "# group education attainment\n",
    "notCollegeGrad = sumRowsDF(uscbYr.loc[:, ['HC01_VC85', 'HC01_VC86', 'HC01_VC87', 'HC01_VC88']])\n",
    "collegeGrad = sumRowsDF(uscbYr.loc[:, ['HC01_VC89', 'HC01_VC90', 'HC01_VC91']])\n",
    "# group ethnicity\n",
    "arab = uscbYr.loc[:, 'HC01_VC184']\n",
    "\n",
    "africa = uscbYr.loc[:, 'HC01_VC204']\n",
    "\n",
    "europe = sumRowsDF(uscbYr.loc[:, [\n",
    "    'HC01_VC186', \n",
    "    'HC01_VC187', \n",
    "    'HC01_VC189', \n",
    "    'HC01_VC191',\n",
    "    'HC01_VC192',\n",
    "    'HC01_VC194',\n",
    "    'HC01_VC195',\n",
    "    'HC01_VC196',\n",
    "    'HC01_VC197',\n",
    "    'HC01_VC198',\n",
    "    'HC01_VC199',\n",
    "    'HC01_VC201',\n",
    "    'HC01_VC202',\n",
    "    'HC01_VC205',\n",
    "    'HC01_VC206',\n",
    "    'HC01_VC208'\n",
    "]])\n",
    "slavonic = sumRowsDF(uscbYr.loc[:, [\n",
    "    'HC01_VC185', \n",
    "    'HC01_VC193', \n",
    "    'HC01_VC200', \n",
    "    'HC01_VC203',\n",
    "    'HC01_VC207'\n",
    "]])\n",
    "na = sumRowsDF(uscbYr.loc[:, [\n",
    "    'HC01_VC188',\n",
    "    'HC01_VC190',\n",
    "    'HC01_VC209'\n",
    "]])\n",
    "generalStats = uscbYr.loc[:, [\n",
    "    'GEO.id2',\n",
    "    'HC01_VC03', \n",
    "    'HC01_VC20', \n",
    "    'HC01_VC36',\n",
    "    'HC01_VC37',\n",
    "    'HC01_VC54',\n",
    "    'HC01_VC52'\n",
    "]]\n",
    "cleanedData = pd.concat([\n",
    "    generalStats, \n",
    "    divorced,\n",
    "    notCollegeGrad,\n",
    "    collegeGrad,\n",
    "    arab,\n",
    "    africa,\n",
    "    europe,\n",
    "    slavonic,\n",
    "    na\n",
    "], axis=1)\n",
    "cleanedData = cleanedData.rename(columns={\"GEO.id2\": \"FIPS_Combined\"})"
   ]
  },
  {
   "cell_type": "code",
   "execution_count": 505,
   "metadata": {},
   "outputs": [],
   "source": [
    "edf = edf[edf['YYYY'] == YR]\n",
    "edf = edf.loc[:, ['FIPS_Combined', 'TotalDrugReportsCounty']].drop_duplicates()"
   ]
  },
  {
   "cell_type": "code",
   "execution_count": 506,
   "metadata": {},
   "outputs": [],
   "source": [
    "cleanedData['FIPS_Combined'] = cleanedData['FIPS_Combined'].apply(int)\n",
    "totalData = cleanedData.merge(edf, left_on='FIPS_Combined', right_on='FIPS_Combined')"
   ]
  },
  {
   "cell_type": "code",
   "execution_count": 507,
   "metadata": {},
   "outputs": [],
   "source": [
    "X = totalData.drop(['FIPS_Combined', 'TotalDrugReportsCounty'], axis=1).apply(pd.to_numeric).values\n",
    "y = totalData.loc[:, totalData.columns == 'TotalDrugReportsCounty'].values.T[0]\n",
    "X_train, y_train = X[:PARTITION], y[:PARTITION]\n",
    "X_val, y_val = X[PARTITION:], y[PARTITION:]"
   ]
  },
  {
   "cell_type": "markdown",
   "metadata": {},
   "source": [
    "## Run Random Forest and Decision Tree Regression"
   ]
  },
  {
   "cell_type": "code",
   "execution_count": 509,
   "metadata": {},
   "outputs": [],
   "source": [
    "rnd_rg = RandomForestRegressor(n_estimators=1, max_leaf_nodes=16, n_jobs=-1)\n",
    "d_tree = DecisionTreeRegressor(max_depth=8)\n",
    "rnd_rg.fit(X_train, y_train)\n",
    "d_tree.fit(X_train, y_train)\n",
    "y_pred_rf = rnd_rg.predict(X_val)"
   ]
  },
  {
   "cell_type": "markdown",
   "metadata": {},
   "source": [
    "## Results"
   ]
  },
  {
   "cell_type": "code",
   "execution_count": 492,
   "metadata": {},
   "outputs": [
    {
     "data": {
      "image/png": "[encoded data removed]",
      "text/plain": [
       "<Figure size 1332x756 with 1 Axes>"
      ]
     },
     "metadata": {},
     "output_type": "display_data"
    }
   ],
   "source": [
    "import matplotlib.pyplot as plt\n",
    "import matplotlib.ticker as ticker\n",
    "import itertools\n",
    "x = X_val.T[0]\n",
    "tick_spacing = 10\n",
    "fig, ax = plt.subplots(1,1)\n",
    "ax.plot(x, y_val, \"b.\")\n",
    "ax.plot(x, y_pred_rf, \"r.\")\n",
    "fig.set_size_inches(18.5, 10.5)\n",
    "plt.show()"
   ]
  },
  {
   "cell_type": "code",
   "execution_count": 513,
   "metadata": {},
   "outputs": [],
   "source": [
    "export_graphviz(\n",
    "    d_tree,\n",
    "    feature_names=[\n",
    "        'Total households', \n",
    "        'Avg household size',\n",
    "        'Never married',\n",
    "        'Married not separated',\n",
    "        'Fertility / 1k women',\n",
    "        'Fertility of unmarried wmn',\n",
    "        'Divorced',\n",
    "        'No College Degree',\n",
    "        'Has College Degree',\n",
    "        'Arab ancestry',\n",
    "        'Subsah. African ancestry',\n",
    "        'European ancestry',\n",
    "        'Slavonic ancestry',\n",
    "        'North Amer. ancestry'\n",
    "    ],\n",
    "    out_file=\"../generated_data/reg_tree.dot\",\n",
    "    rounded=True,\n",
    "    filled=True\n",
    ")"
   ]
  },
  {
   "cell_type": "code",
   "execution_count": null,
   "metadata": {},
   "outputs": [],
   "source": []
  }
 ],
 "metadata": {
  "kernelspec": {
   "display_name": "Python 3",
   "language": "python",
   "name": "python3"
  },
  "language_info": {
   "codemirror_mode": {
    "name": "ipython",
    "version": 3
   },
   "file_extension": ".py",
   "mimetype": "text/x-python",
   "name": "python",
   "nbconvert_exporter": "python",
   "pygments_lexer": "ipython3",
   "version": "3.6.2"
  }
 },
 "nbformat": 4,
 "nbformat_minor": 2
}
