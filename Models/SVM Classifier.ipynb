{
 "cells": [
  {
   "cell_type": "code",
   "execution_count": 695,
   "metadata": {},
   "outputs": [],
   "source": [
    "from sklearn.svm import SVC\n",
    "from sklearn.pipeline import Pipeline\n",
    "from sklearn.preprocessing import StandardScaler\n",
    "import pandas as pd\n",
    "import numpy as np\n",
    "YR = 2015\n",
    "INPUT_PATH = f'../2019_MCMProblemC_DATA/ACS_{YR%2000}_5YR_DP02/ACS_{YR%2000}_5YR_DP02_with_ann.csv'\n",
    "EXPECTED_PATH = '../generated_data/SVM_Input2.xlsx'\n",
    "TEST_RATIO = 0.8"
   ]
  },
  {
   "cell_type": "markdown",
   "metadata": {},
   "source": [
    "## Prepare Dataset"
   ]
  },
  {
   "cell_type": "code",
   "execution_count": 696,
   "metadata": {},
   "outputs": [],
   "source": [
    "def sumRowsDF(df):\n",
    "    return df.drop([0]).apply(pd.to_numeric).sum(axis=1)"
   ]
  },
  {
   "cell_type": "markdown",
   "metadata": {},
   "source": [
    "## Combine Specific Features into More General Groups"
   ]
  },
  {
   "cell_type": "code",
   "execution_count": 697,
   "metadata": {},
   "outputs": [],
   "source": [
    "uscbYr = pd.read_csv(INPUT_PATH)\n",
    "divorced = sumRowsDF(uscbYr.loc[:, ['HC01_VC41', 'HC01_VC40', 'HC01_VC39']])\n",
    "# group education attainment\n",
    "notCollegeGrad = sumRowsDF(uscbYr.loc[:, ['HC01_VC86', 'HC01_VC87', 'HC01_VC88', 'HC01_VC89']])\n",
    "collegeGrad = sumRowsDF(uscbYr.loc[:, ['HC01_VC90', 'HC01_VC91', 'HC01_VC92']])\n",
    "# group ethnicity\n",
    "arab = uscbYr.loc[:, 'HC01_VC187']\n",
    "arab = arab.rename(columns=arab.iloc[0]).drop([0])\n",
    "\n",
    "africa = uscbYr.loc[:, 'HC01_VC207']\n",
    "africa = africa.rename(columns=africa.iloc[0]).drop([0])\n",
    "\n",
    "europe = sumRowsDF(uscbYr.loc[:, [\n",
    "    'HC01_VC189', # Danish\n",
    "    'HC01_VC190', # Dutch\n",
    "    'HC01_VC192', # French\n",
    "    'HC01_VC191', # German\n",
    "    'HC01_VC192', # Greek\n",
    "    'HC01_VC197', # Irish\n",
    "    'HC01_VC198', # Italian\n",
    "    'HC01_VC199', # Lithuanian\n",
    "    'HC01_VC200', # Norwegian\n",
    "    'HC01_VC201', # Polish\n",
    "    'HC01_VC202', # Portuguese\n",
    "    'HC01_VC204', # Scotch-Irish\n",
    "    'HC01_VC205', # Scottish\n",
    "    'HC01_VC208', # Swedish\n",
    "    'HC01_VC209', # Swiss\n",
    "    'HC01_VC211' # Welsh\n",
    "]])\n",
    "slavonic = sumRowsDF(uscbYr.loc[:, [\n",
    "    'HC01_VC188', # Czech\n",
    "    'HC01_VC196', # Hungarian\n",
    "    'HC01_VC203', # Russian\n",
    "    'HC01_VC206', # Slovak\n",
    "    'HC01_VC210' # Ukrainian\n",
    "]])\n",
    "na = sumRowsDF(uscbYr.loc[:, [\n",
    "    'HC01_VC191', # English\n",
    "    'HC01_VC193', # French Canadian\n",
    "    'HC01_VC212' # West Indian\n",
    "]])\n",
    "neverMarried = sumRowsDF(uscbYr.loc[:, [\n",
    "    'HC01_VC37', # male, never married\n",
    "    'HC01_VC44' # female, never married\n",
    "]])\n",
    "marriedSeparate = sumRowsDF(uscbYr.loc[:, [\n",
    "    'HC01_VC38', # male, never married\n",
    "    'HC01_VC45' # female, never married\n",
    "]])\n",
    "household = uscbYr.loc[:, [\n",
    "    'HC01_VC03', # total households\n",
    "    'HC01_VC21' # avg household size\n",
    "]]\n",
    "houshold = household.rename(columns=generalStats.iloc[0]).drop([0])\n",
    "cleanedData = pd.concat([\n",
    "    household,\n",
    "    neverMarried,\n",
    "    marriedSeparate,\n",
    "    divorced,\n",
    "    notCollegeGrad,\n",
    "    collegeGrad,\n",
    "    #arab,\n",
    "    africa,\n",
    "    europe,\n",
    "    slavonic,\n",
    "    na\n",
    "], axis=1)"
   ]
  },
  {
   "cell_type": "code",
   "execution_count": 698,
   "metadata": {
    "scrolled": true
   },
   "outputs": [],
   "source": [
    "expected = pd.read_excel(EXPECTED_PATH).iloc[:, YR - 2001]\n",
    "counties = uscbYr.iloc[:, 2]"
   ]
  },
  {
   "cell_type": "markdown",
   "metadata": {},
   "source": [
    "## Split test and validation sets"
   ]
  },
  {
   "cell_type": "code",
   "execution_count": 699,
   "metadata": {},
   "outputs": [],
   "source": [
    "partition = int(TEST_RATIO*uscbYr.shape[0])\n",
    "uscbTest = cleanedData[:partition]\n",
    "expectedTest = expected[:partition]\n",
    "uscbVal = cleanedData[partition:]\n",
    "expectedVal = expected[partition:]"
   ]
  },
  {
   "cell_type": "markdown",
   "metadata": {},
   "source": [
    "## Scale data, run SVM"
   ]
  },
  {
   "cell_type": "code",
   "execution_count": 700,
   "metadata": {},
   "outputs": [
    {
     "data": {
      "text/plain": [
       "Pipeline(memory=None,\n",
       "     steps=[('scaler', StandardScaler(copy=True, with_mean=True, with_std=True)), ('svm_clf', SVC(C=5, cache_size=200, class_weight=None, coef0=1,\n",
       "  decision_function_shape='ovr', degree=3, gamma='auto', kernel='poly',\n",
       "  max_iter=-1, probability=False, random_state=None, shrinking=True,\n",
       "  tol=0.001, verbose=False))])"
      ]
     },
     "execution_count": 700,
     "metadata": {},
     "output_type": "execute_result"
    }
   ],
   "source": [
    "poly_kernel_svm_clf = Pipeline([\n",
    "    (\"scaler\", StandardScaler()),\n",
    "    (\"svm_clf\", SVC(kernel=\"poly\", coef0=1, C=5))\n",
    "])\n",
    "poly_kernel_svm_clf.fit(uscbTest, expectedTest)"
   ]
  },
  {
   "cell_type": "code",
   "execution_count": 701,
   "metadata": {},
   "outputs": [],
   "source": [
    "pred = poly_kernel_svm_clf.predict(uscbVal)\n",
    "accuracy_score = np.mean(pred == expectedVal)"
   ]
  },
  {
   "cell_type": "markdown",
   "metadata": {},
   "source": [
    "## Results"
   ]
  },
  {
   "cell_type": "code",
   "execution_count": 702,
   "metadata": {},
   "outputs": [
    {
     "data": {
      "text/plain": [
       "0.967391304347826"
      ]
     },
     "execution_count": 702,
     "metadata": {},
     "output_type": "execute_result"
    }
   ],
   "source": [
    "accuracy_score"
   ]
  }
 ],
 "metadata": {
  "kernelspec": {
   "display_name": "Python 3",
   "language": "python",
   "name": "python3"
  },
  "language_info": {
   "codemirror_mode": {
    "name": "ipython",
    "version": 3
   },
   "file_extension": ".py",
   "mimetype": "text/x-python",
   "name": "python",
   "nbconvert_exporter": "python",
   "pygments_lexer": "ipython3",
   "version": "3.6.2"
  }
 },
 "nbformat": 4,
 "nbformat_minor": 2
}
